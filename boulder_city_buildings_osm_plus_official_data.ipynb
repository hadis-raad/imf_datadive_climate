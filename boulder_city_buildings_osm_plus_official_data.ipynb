{
  "metadata": {
    "interpreter": {
      "hash": "6e01ae1a5b6cec6d00c8cdda64aa3f8496ad213319a5f14e20b079aa3c21f8e3"
    },
    "kernelspec": {
      "name": "python3",
      "display_name": "Python 3",
      "language": "python"
    },
    "language_info": {
      "name": "python",
      "version": "3.10.12",
      "mimetype": "text/x-python",
      "codemirror_mode": {
        "name": "ipython",
        "version": 3
      },
      "pygments_lexer": "ipython3",
      "nbconvert_exporter": "python",
      "file_extension": ".py"
    },
    "colab": {
      "provenance": [],
      "include_colab_link": true
    }
  },
  "nbformat_minor": 5,
  "nbformat": 4,
  "cells": [
    {
      "cell_type": "markdown",
      "metadata": {
        "id": "view-in-github",
        "colab_type": "text"
      },
      "source": [
        "<a href=\"https://colab.research.google.com/github/hadis-raad/imf_datadive_climate/blob/main/boulder_city_buildings_osm_plus_official_data.ipynb\" target=\"_parent\"><img src=\"https://colab.research.google.com/assets/colab-badge.svg\" alt=\"Open In Colab\"/></a>"
      ]
    },
    {
      "cell_type": "code",
      "source": [
        "%pip install osmium\n",
        "%pip install geopandas\n",
        "%pip install graphviz\n",
        "%pip install jenkspy\n"
      ],
      "metadata": {
        "execution": {
          "iopub.status.busy": "2023-09-16T20:59:53.587740Z",
          "iopub.execute_input": "2023-09-16T20:59:53.589002Z",
          "iopub.status.idle": "2023-09-16T21:00:18.085644Z",
          "shell.execute_reply.started": "2023-09-16T20:59:53.588923Z",
          "shell.execute_reply": "2023-09-16T21:00:18.084678Z"
        },
        "trusted": true,
        "colab": {
          "base_uri": "https://localhost:8080/"
        },
        "id": "UPQUNofpUdJJ",
        "outputId": "5cf0eded-700e-45cc-b1f0-51eb3f701e50"
      },
      "execution_count": null,
      "outputs": [
        {
          "output_type": "stream",
          "name": "stdout",
          "text": [
            "Requirement already satisfied: osmium in /usr/local/lib/python3.10/dist-packages (3.6.0)\n",
            "Requirement already satisfied: requests in /usr/local/lib/python3.10/dist-packages (from osmium) (2.31.0)\n",
            "Requirement already satisfied: charset-normalizer<4,>=2 in /usr/local/lib/python3.10/dist-packages (from requests->osmium) (3.2.0)\n",
            "Requirement already satisfied: idna<4,>=2.5 in /usr/local/lib/python3.10/dist-packages (from requests->osmium) (3.4)\n",
            "Requirement already satisfied: urllib3<3,>=1.21.1 in /usr/local/lib/python3.10/dist-packages (from requests->osmium) (2.0.4)\n",
            "Requirement already satisfied: certifi>=2017.4.17 in /usr/local/lib/python3.10/dist-packages (from requests->osmium) (2023.7.22)\n",
            "Requirement already satisfied: geopandas in /usr/local/lib/python3.10/dist-packages (0.13.2)\n",
            "Requirement already satisfied: fiona>=1.8.19 in /usr/local/lib/python3.10/dist-packages (from geopandas) (1.9.4.post1)\n",
            "Requirement already satisfied: packaging in /usr/local/lib/python3.10/dist-packages (from geopandas) (23.1)\n",
            "Requirement already satisfied: pandas>=1.1.0 in /usr/local/lib/python3.10/dist-packages (from geopandas) (1.5.3)\n",
            "Requirement already satisfied: pyproj>=3.0.1 in /usr/local/lib/python3.10/dist-packages (from geopandas) (3.6.0)\n",
            "Requirement already satisfied: shapely>=1.7.1 in /usr/local/lib/python3.10/dist-packages (from geopandas) (2.0.1)\n",
            "Requirement already satisfied: attrs>=19.2.0 in /usr/local/lib/python3.10/dist-packages (from fiona>=1.8.19->geopandas) (23.1.0)\n",
            "Requirement already satisfied: certifi in /usr/local/lib/python3.10/dist-packages (from fiona>=1.8.19->geopandas) (2023.7.22)\n",
            "Requirement already satisfied: click~=8.0 in /usr/local/lib/python3.10/dist-packages (from fiona>=1.8.19->geopandas) (8.1.7)\n",
            "Requirement already satisfied: click-plugins>=1.0 in /usr/local/lib/python3.10/dist-packages (from fiona>=1.8.19->geopandas) (1.1.1)\n",
            "Requirement already satisfied: cligj>=0.5 in /usr/local/lib/python3.10/dist-packages (from fiona>=1.8.19->geopandas) (0.7.2)\n",
            "Requirement already satisfied: six in /usr/local/lib/python3.10/dist-packages (from fiona>=1.8.19->geopandas) (1.16.0)\n",
            "Requirement already satisfied: python-dateutil>=2.8.1 in /usr/local/lib/python3.10/dist-packages (from pandas>=1.1.0->geopandas) (2.8.2)\n",
            "Requirement already satisfied: pytz>=2020.1 in /usr/local/lib/python3.10/dist-packages (from pandas>=1.1.0->geopandas) (2023.3.post1)\n",
            "Requirement already satisfied: numpy>=1.21.0 in /usr/local/lib/python3.10/dist-packages (from pandas>=1.1.0->geopandas) (1.23.5)\n",
            "Requirement already satisfied: graphviz in /usr/local/lib/python3.10/dist-packages (0.20.1)\n",
            "Requirement already satisfied: jenkspy in /usr/local/lib/python3.10/dist-packages (0.3.3)\n",
            "Requirement already satisfied: numpy in /usr/local/lib/python3.10/dist-packages (from jenkspy) (1.23.5)\n"
          ]
        }
      ],
      "id": "UPQUNofpUdJJ"
    },
    {
      "cell_type": "code",
      "source": [
        "import osmium as osm\n",
        "import pandas as pd\n",
        "import geopandas\n",
        "import os.path\n",
        "import shapely.wkb as wkblib\n",
        "wkbfab = osm.geom.WKBFactory()\n",
        "import numpy as np\n",
        "import shapely.geometry\n",
        "\n",
        "from sklearn import tree\n",
        "import graphviz\n",
        "import matplotlib.pyplot as plt\n",
        "from sklearn.model_selection import train_test_split\n",
        "from sklearn.tree import DecisionTreeClassifier, export_graphviz\n",
        "from sklearn import metrics\n",
        "from sklearn.model_selection import cross_val_predict\n",
        "from sklearn import preprocessing\n",
        "import jenkspy\n",
        "from sklearn.metrics import PrecisionRecallDisplay"
      ],
      "metadata": {
        "execution": {
          "iopub.status.busy": "2023-09-16T21:00:18.087598Z",
          "iopub.execute_input": "2023-09-16T21:00:18.087918Z",
          "iopub.status.idle": "2023-09-16T21:00:21.012665Z",
          "shell.execute_reply.started": "2023-09-16T21:00:18.087887Z",
          "shell.execute_reply": "2023-09-16T21:00:21.011535Z"
        },
        "trusted": true,
        "id": "bdJqqGYYUdJL"
      },
      "execution_count": null,
      "outputs": [],
      "id": "bdJqqGYYUdJL"
    },
    {
      "cell_type": "code",
      "source": [
        "class AreaHandler(osm.SimpleHandler):\n",
        "    def __init__(self):\n",
        "        osm.SimpleHandler.__init__(self)\n",
        "        self.num_polys = 0\n",
        "        self.osm_data = []\n",
        "        self.roads_data = []\n",
        "        self.landuse_data = []\n",
        "        self.amenity_data = []\n",
        "\n",
        "    def count_polygons(self):\n",
        "        self.num_polys += 1\n",
        "\n",
        "    def way(self, w):\n",
        "        try:\n",
        "            wkb = wkbfab.create_linestring(w)\n",
        "            line = wkblib.loads(wkb, hex=True)\n",
        "            for tag in w.tags:\n",
        "                if (tag.k=='highway'):\n",
        "                    self.roads_data.append([w.id,\n",
        "                                       tag.v,\n",
        "                                       line])\n",
        "        except Exception:\n",
        "            pass\n",
        "\n",
        "    def area(self, a):\n",
        "        try:\n",
        "            wkb = wkbfab.create_multipolygon(a)\n",
        "            self.count_polygons()\n",
        "            # load into shapely\n",
        "            poly = wkblib.loads(wkb, hex=True)\n",
        "            for tag in a.tags:\n",
        "                if (tag.k=='building'):\n",
        "                    self.osm_data.append([a.id,\n",
        "                                    tag.v,\n",
        "                                    list(poly.geoms)[0],\n",
        "                                    list(dict(a.tags).keys()),\n",
        "                                    dict(a.tags)])\n",
        "                if (tag.k=='landuse'):\n",
        "                    self.landuse_data.append([tag.v,\n",
        "                                    list(poly.geoms)[0],\n",
        "                                    ])\n",
        "                if (tag.k == 'amenity'):\n",
        "                    self.amenity_data.append([tag.v,\n",
        "                                    list(poly.geoms)[0],\n",
        "                                    ])\n",
        "        except Exception:\n",
        "            pass"
      ],
      "metadata": {
        "execution": {
          "iopub.status.busy": "2023-09-16T21:00:21.014128Z",
          "iopub.execute_input": "2023-09-16T21:00:21.014661Z",
          "iopub.status.idle": "2023-09-16T21:00:21.029444Z",
          "shell.execute_reply.started": "2023-09-16T21:00:21.014614Z",
          "shell.execute_reply": "2023-09-16T21:00:21.028354Z"
        },
        "trusted": true,
        "id": "PgA1hO16UdJL"
      },
      "execution_count": null,
      "outputs": [],
      "id": "PgA1hO16UdJL"
    },
    {
      "cell_type": "code",
      "source": [
        "data_file_path=\"/content/Boulder_City_Buildings.osm.pbf\"\n",
        "\n",
        "\n",
        "areahandler = AreaHandler()\n",
        "areahandler.apply_file(data_file_path, locations=True)\n",
        "\n",
        "# transform the list into a pandas DataFrame\n",
        "data_colnames = ['id', 'building', 'geometry', 'all_tag_keys', 'all_tags']\n",
        "df = pd.DataFrame(areahandler.osm_data, columns=data_colnames)\n",
        "\n",
        "gdf = geopandas.GeoDataFrame(df, crs=4326, geometry='geometry')\n",
        "\n",
        "# transform the list into a pandas DataFrame\n",
        "land_colnames = ['landuse', 'geometry']\n",
        "land_df = pd.DataFrame(areahandler.landuse_data, columns=land_colnames)\n",
        "\n",
        "non_res = ['commercial', 'retail','industrial','grass','plant_nursery','quarry','railway','government',\\\n",
        "            'institutional']\n",
        "land_df['landuse'] = land_df['landuse'].apply(\\\n",
        "                                lambda x: 'non_res' if x in non_res else x)\n",
        "\n",
        "land_gdf = geopandas.GeoDataFrame(land_df, crs=4326, geometry='geometry')\n",
        "\n",
        "buildings_land = gdf.sjoin(land_gdf, how=\"left\", predicate='intersects')\n",
        "\n",
        "buildings_land.drop_duplicates(subset='id',inplace=True)\n",
        "\n",
        "buildings_land.rename(columns={'index_right': 'index_landuse'},inplace=True)\n",
        "buildings_land['landuse'] = \\\n",
        "            buildings_land['landuse'].apply(lambda x: 'no_landuse' if pd.isnull(x) else x)\n",
        "buildings_land.reset_index(inplace=True, drop=True)\n",
        "\n",
        "buildings_land['land_building'] = buildings_land.apply(lambda x: \\\n",
        "    x['landuse'] if x['building'] == 'yes' else x['building'], axis=1)\n"
      ],
      "metadata": {
        "execution": {
          "iopub.status.busy": "2023-09-16T21:00:21.031898Z",
          "iopub.execute_input": "2023-09-16T21:00:21.032223Z",
          "iopub.status.idle": "2023-09-16T21:00:37.937558Z",
          "shell.execute_reply.started": "2023-09-16T21:00:21.032194Z",
          "shell.execute_reply": "2023-09-16T21:00:37.936679Z"
        },
        "trusted": true,
        "id": "05-nYFt6UdJM"
      },
      "execution_count": null,
      "outputs": [],
      "id": "05-nYFt6UdJM"
    },
    {
      "cell_type": "code",
      "source": [
        "# load official buildings\n",
        "buildings_path = \"/content/Boulder_admin_buildings/Boulder_admin_buildings.shp\"\n",
        "official_buildings = geopandas.read_file(buildings_path)\n",
        "official_buildings = official_buildings.rename(columns={'BLDGTYPE': 'official_type',})\n",
        "\n",
        "drop_list = ['Agricultural','Foundation/Ruin','Garage/Shed','Misc','Parking Structure','Tank']\n",
        "official_buildings.drop(official_buildings[(official_buildings['official_type'].isin(drop_list))].index,\\\n",
        "                        inplace = True)\n",
        "official_buildings.reset_index(inplace=True, drop=True)\n",
        "\n",
        "official_buildings['official_type'] = official_buildings['official_type'].apply(\\\n",
        "                                lambda x: 'RES' if (x == 'Residential'\n",
        "                                                ) else 'NON_RES')\n",
        "\n",
        "areahandler = AreaHandler()\n",
        "areahandler.apply_file(\"/content/Boulder_City_Buildings.osm.pbf\", locations=True)\n",
        "print(\"Number of polygons: %d\" % areahandler.num_polys)\n",
        "\n",
        "# transform the list into a pandas DataFrame\n",
        "data_colnames = ['id', 'building', 'geometry', 'all_tag_keys', 'all_tags']\n",
        "df = pd.DataFrame(areahandler.osm_data, columns=data_colnames)\n",
        "\n",
        "gdf = geopandas.GeoDataFrame(df, crs=4326, geometry='geometry')\n",
        "\n",
        "# transform the list into a pandas DataFrame\n",
        "land_colnames = ['landuse', 'geometry']\n",
        "land_df = pd.DataFrame(areahandler.landuse_data, columns=land_colnames)\n",
        "\n",
        "non_res = ['commercial', 'retail','industrial','grass','plant_nursery','quarry','railway','government',\\\n",
        "            'institutional']\n",
        "land_df['landuse'] = land_df['landuse'].apply(\\\n",
        "                                lambda x: 'non_res' if x in non_res else x)\n",
        "\n",
        "land_gdf = geopandas.GeoDataFrame(land_df, crs=4326, geometry='geometry')\n",
        "\n",
        "buildings_land = gdf.sjoin(land_gdf, how=\"left\", predicate='intersects')\n",
        "\n",
        "buildings_land.drop_duplicates(subset='id',inplace=True)\n",
        "\n",
        "buildings_land.rename(columns={'index_right': 'index_landuse'},inplace=True)\n",
        "buildings_land['landuse'] = \\\n",
        "            buildings_land['landuse'].apply(lambda x: 'no_landuse' if pd.isnull(x) else x)\n",
        "buildings_land.reset_index(inplace=True, drop=True)\n",
        "\n",
        "buildings_land['land_building'] = buildings_land.apply(lambda x: \\\n",
        "    x['landuse'] if x['building'] == 'yes' else x['building'], axis=1)"
      ],
      "metadata": {
        "execution": {
          "iopub.status.busy": "2023-09-16T21:00:37.938844Z",
          "iopub.execute_input": "2023-09-16T21:00:37.939140Z",
          "iopub.status.idle": "2023-09-16T21:01:06.299675Z",
          "shell.execute_reply.started": "2023-09-16T21:00:37.939114Z",
          "shell.execute_reply": "2023-09-16T21:01:06.298682Z"
        },
        "trusted": true,
        "id": "XiCL6qEIUdJM",
        "outputId": "3e6b830d-7d1e-4f92-f01f-add160a4dd85"
      },
      "execution_count": null,
      "outputs": [
        {
          "name": "stdout",
          "text": "Number of polygons: 51535\n",
          "output_type": "stream"
        }
      ],
      "id": "XiCL6qEIUdJM"
    },
    {
      "cell_type": "code",
      "source": [
        "def enrich_buildings(buildings_land,tags_list):\n",
        "    for tag_val in tags_list:\n",
        "        buildings_land['land_building'] = buildings_land.apply(lambda x: \\\n",
        "            tag_val if x['landuse'] == tag_val else x['land_building'], axis=1)\n",
        "\n",
        "    return buildings_land"
      ],
      "metadata": {
        "execution": {
          "iopub.status.busy": "2023-09-16T21:01:06.300902Z",
          "iopub.execute_input": "2023-09-16T21:01:06.301219Z",
          "iopub.status.idle": "2023-09-16T21:01:06.307186Z",
          "shell.execute_reply.started": "2023-09-16T21:01:06.301189Z",
          "shell.execute_reply": "2023-09-16T21:01:06.306314Z"
        },
        "trusted": true,
        "id": "if43FaNwUdJN"
      },
      "execution_count": null,
      "outputs": [],
      "id": "if43FaNwUdJN"
    },
    {
      "cell_type": "code",
      "source": [
        "tags_list = ['residential','commercial','religious','recreation_ground','cemetery',\\\n",
        "            'construction','farmland','farmyard','forest','military']\n",
        "buildings_land = enrich_buildings(buildings_land,tags_list)\n",
        "\n",
        "official_buildings.crs\n",
        "\n",
        "buildings_gdf = buildings_land.sjoin(official_buildings, how=\"inner\", predicate='intersects')\n",
        "buildings_gdf.rename(columns={'index_right': 'index_official'}, inplace=True)\n",
        "buildings_gdf.drop_duplicates(subset='id',inplace=True)\n",
        "\n",
        "# transform the list of roads into a pandas DataFrame\n",
        "roads_colnames = ['id', 'highway', 'geometry']\n",
        "roads_df = pd.DataFrame(areahandler.roads_data, columns=roads_colnames)\n",
        "road_categories = roads_df.groupby(['highway'])['id'].count().reset_index(name=\"count\")\n",
        "roads_cat1 = roads_df[(roads_df['highway'] == 'residential') | (roads_df['highway'] == 'living_street')]\n",
        "roads_cat1 = roads_cat1.assign(highway='residential')\n",
        "roads_cat1 = geopandas.GeoDataFrame(roads_cat1,crs=\"EPSG:4326\",geometry='geometry')\n",
        "roads_cat1 = geopandas.GeoDataFrame(roads_cat1,crs=\"EPSG:4326\",geometry='geometry')\n",
        "roads_cat1 = geopandas.GeoDataFrame(roads_cat1,crs=\"EPSG:4326\",geometry='geometry')\n",
        "\n",
        "roads_list = ['primary', 'secondary','tertiary']\n",
        "roads_cat2 = roads_df[roads_df['highway'].isin(roads_list)]\n",
        "\n",
        "roads_cat2 = roads_cat2.assign(highway='non_res_road')\n",
        "\n",
        "roads_cat2 = geopandas.GeoDataFrame(roads_cat2,crs=\"EPSG:4326\",geometry='geometry')\n",
        "\n",
        "roads_cat3 = roads_df[(roads_df['highway'] == 'motorway') | (roads_df['highway'] == 'trunk')]\n",
        "\n",
        "roads_cat3 = roads_cat3.assign(highway='roads_cat3')\n",
        "\n",
        "roads_cat3 = geopandas.GeoDataFrame(roads_cat3,crs=\"EPSG:4326\",geometry='geometry')\n",
        "\n",
        "roads_cat4 = roads_df[(roads_df['highway'] == 'service')]\n",
        "roads_cat4 = geopandas.GeoDataFrame(roads_cat4,crs=\"EPSG:4326\",geometry='geometry')\n",
        "\n",
        "def apply_buffers(radius, road_category):\n",
        "    road_category['geometry'] = road_category['geometry'].to_crs(epsg=32610).buffer(radius)\n",
        "    road_category.to_crs(epsg=4326, inplace=True)\n",
        "    road_category.rename(columns={'highway': 'buffered_highway'}, inplace=True)\n",
        "    road_category = road_category.dissolve()\n",
        "\n",
        "    return road_category"
      ],
      "metadata": {
        "execution": {
          "iopub.status.busy": "2023-09-16T21:01:06.308601Z",
          "iopub.execute_input": "2023-09-16T21:01:06.308930Z",
          "iopub.status.idle": "2023-09-16T21:01:13.915300Z",
          "shell.execute_reply.started": "2023-09-16T21:01:06.308901Z",
          "shell.execute_reply": "2023-09-16T21:01:13.914346Z"
        },
        "trusted": true,
        "id": "xnTbAjAlUdJN",
        "outputId": "e6319c24-411e-4eb6-8a5d-53a3f28f86bf"
      },
      "execution_count": null,
      "outputs": [
        {
          "name": "stderr",
          "text": "/usr/local/lib/python3.8/site-packages/geopandas/geodataframe.py:2177: UserWarning: CRS mismatch between the CRS of left geometries and the CRS of right geometries.\nUse `to_crs()` to reproject one of the input geometries to match the CRS of the other.\n\nLeft CRS: EPSG:4326\nRight CRS: None\n\n  return geopandas.sjoin(left_df=self, right_df=df, *args, **kwargs)\n",
          "output_type": "stream"
        }
      ],
      "id": "xnTbAjAlUdJN"
    },
    {
      "cell_type": "code",
      "source": [
        "\n",
        "radius_list = [30,60,90]                        # meters\n",
        "road_category = roads_cat1.copy()\n",
        "buffered_cat1_30 = apply_buffers(radius_list[0],road_category)\n",
        "buffered_cat1_60 = apply_buffers(radius_list[1],road_category)\n",
        "buffered_cat1_90 = apply_buffers(radius_list[2],road_category)\n",
        "\n",
        "road_category = roads_cat2.copy()\n",
        "buffered_cat2_30 = apply_buffers(radius_list[0],road_category)\n",
        "buffered_cat2_60 = apply_buffers(radius_list[1],road_category)\n",
        "buffered_cat2_90 = apply_buffers(radius_list[2],road_category)\n",
        "\n",
        "road_category = roads_cat3.copy()\n",
        "buffered_cat3_30 = apply_buffers(radius_list[0],road_category)\n",
        "buffered_cat3_60 = apply_buffers(radius_list[1],road_category)\n",
        "buffered_cat3_90 = apply_buffers(radius_list[2],road_category)\n",
        "\n",
        "road_category = roads_cat4.copy()\n",
        "buffered_cat4_30 = apply_buffers(radius_list[0],road_category)\n",
        "buffered_cat4_60 = apply_buffers(radius_list[1],road_category)\n",
        "buffered_cat4_90 = apply_buffers(radius_list[2],road_category)"
      ],
      "metadata": {
        "execution": {
          "iopub.status.busy": "2023-09-16T21:01:13.916740Z",
          "iopub.execute_input": "2023-09-16T21:01:13.917066Z",
          "iopub.status.idle": "2023-09-16T21:01:40.694703Z",
          "shell.execute_reply.started": "2023-09-16T21:01:13.917040Z",
          "shell.execute_reply": "2023-09-16T21:01:40.693800Z"
        },
        "trusted": true,
        "id": "bztnR7G3UdJN"
      },
      "execution_count": null,
      "outputs": [],
      "id": "bztnR7G3UdJN"
    },
    {
      "cell_type": "code",
      "source": [
        "def join_buildings(buffer_category, roads_category):\n",
        "    buffered_category = {\n",
        "        'cat1_30': buffered_cat1_30,\n",
        "        'cat1_60': buffered_cat1_60,\n",
        "        'cat1_90': buffered_cat1_90,\n",
        "        'cat2_30': buffered_cat2_30,\n",
        "        'cat2_60': buffered_cat2_60,\n",
        "        'cat2_90': buffered_cat2_90,\n",
        "        'cat3_30': buffered_cat3_30,\n",
        "        'cat3_60': buffered_cat3_60,\n",
        "        'cat3_90': buffered_cat3_90,\n",
        "        'cat4_30': buffered_cat4_30,\n",
        "        'cat4_60': buffered_cat4_60,\n",
        "        'cat4_90': buffered_cat4_90,\n",
        "\n",
        "    }.get(buffer_category)\n",
        "\n",
        "    joined = buildings_gdf.sjoin(buffered_category, how='left')\n",
        "\n",
        "    joined.rename(columns={'index_right': 'index_roads'}, inplace=True)\n",
        "\n",
        "    if roads_category:\n",
        "        joined['buffered_highway'] = \\\n",
        "            joined['buffered_highway'].apply(lambda x: 'not_residential' if pd.isnull(x) else x)\n",
        "    else:\n",
        "        joined['buffered_highway'] = \\\n",
        "            joined['buffered_highway'].apply(lambda x: 'residential' if pd.isnull(x) else x)\n",
        "\n",
        "    joined.reset_index(inplace=True, drop=True)\n",
        "\n",
        "    return joined"
      ],
      "metadata": {
        "execution": {
          "iopub.status.busy": "2023-09-16T21:01:40.696098Z",
          "iopub.execute_input": "2023-09-16T21:01:40.696406Z",
          "iopub.status.idle": "2023-09-16T21:01:40.705885Z",
          "shell.execute_reply.started": "2023-09-16T21:01:40.696379Z",
          "shell.execute_reply": "2023-09-16T21:01:40.705061Z"
        },
        "trusted": true,
        "id": "NaLLxEh8UdJN"
      },
      "execution_count": null,
      "outputs": [],
      "id": "NaLLxEh8UdJN"
    },
    {
      "cell_type": "code",
      "source": [
        "buffer_categories = ['cat1_30', 'cat1_60', 'cat1_90','cat2_30','cat2_60','cat2_90',\\\n",
        "                    'cat3_30', 'cat3_60', 'cat3_90','cat4_30','cat4_60','cat4_90']\n",
        "roads_category = 1                      # 1 is residential, 0 is ['primary', 'secondary','tertiary']\n",
        "joined_buildings1 = join_buildings(buffer_categories[0],roads_category)\n",
        "joined_buildings2 = join_buildings(buffer_categories[1],roads_category)\n",
        "joined_buildings3 = join_buildings(buffer_categories[2],roads_category)\n",
        "roads_category = 0\n",
        "joined_buildings4 = join_buildings(buffer_categories[3],roads_category)\n",
        "joined_buildings5 = join_buildings(buffer_categories[4],roads_category)\n",
        "joined_buildings6 = join_buildings(buffer_categories[5],roads_category)\n",
        "joined_buildings7 = join_buildings(buffer_categories[6],roads_category)\n",
        "joined_buildings8 = join_buildings(buffer_categories[7],roads_category)\n",
        "joined_buildings9 = join_buildings(buffer_categories[8],roads_category)\n",
        "joined_buildings10 = join_buildings(buffer_categories[9],roads_category)\n",
        "joined_buildings11 = join_buildings(buffer_categories[10],roads_category)\n",
        "joined_buildings12 = join_buildings(buffer_categories[11],roads_category)"
      ],
      "metadata": {
        "execution": {
          "iopub.status.busy": "2023-09-16T21:01:40.709816Z",
          "iopub.execute_input": "2023-09-16T21:01:40.710104Z",
          "iopub.status.idle": "2023-09-16T21:13:05.218313Z",
          "shell.execute_reply.started": "2023-09-16T21:01:40.710079Z",
          "shell.execute_reply": "2023-09-16T21:13:05.217236Z"
        },
        "trusted": true,
        "id": "DW1PDE1OUdJO"
      },
      "execution_count": null,
      "outputs": [],
      "id": "DW1PDE1OUdJO"
    },
    {
      "cell_type": "code",
      "source": [
        "keys_list = []\n",
        "for sublist in areahandler.osm_data:\n",
        "    keys_list.append(sublist[3])\n",
        "\n",
        "keys_list_flat = [val for sublist in keys_list for val in sublist]\n",
        "unique_keys = sorted(list(set(keys_list_flat)))\n",
        "\n",
        "key_freq = []\n",
        "for key in unique_keys:\n",
        "    key_freq.append(keys_list_flat.count(key))\n",
        "\n",
        "keys_tuples = list(zip(unique_keys, key_freq))\n",
        "keys_freq_df = pd.DataFrame(keys_tuples, columns = ['Key', 'Freq'])\n",
        "keys_freq_df.sort_values(by=['Freq'], inplace=True, ascending=False)\n",
        "\n",
        "keys_freq_df.reset_index(inplace=True, drop=True)\n",
        "\n",
        "selected_tags = ['source','addr:street','name','building:levels',\\\n",
        "                'roof:shape','amenity','brand','website','shop']\n",
        "num_keys = len(selected_tags)+2"
      ],
      "metadata": {
        "execution": {
          "iopub.status.busy": "2023-09-16T21:13:05.219573Z",
          "iopub.execute_input": "2023-09-16T21:13:05.219907Z",
          "iopub.status.idle": "2023-09-16T21:13:05.883603Z",
          "shell.execute_reply.started": "2023-09-16T21:13:05.219879Z",
          "shell.execute_reply": "2023-09-16T21:13:05.882594Z"
        },
        "trusted": true,
        "id": "CtaZO9iWUdJO"
      },
      "execution_count": null,
      "outputs": [],
      "id": "CtaZO9iWUdJO"
    },
    {
      "cell_type": "code",
      "source": [
        "def preprocess_data(input_data, value_tags, selected_tags):\n",
        "    col_pos = 2\n",
        "    for tag_key in selected_tags:\n",
        "        col_name = tag_key\n",
        "        input_data.insert(col_pos,col_name,0)\n",
        "        input_data[col_name] = input_data.apply(lambda x: 1 if tag_key in list(x['all_tag_keys']) \\\n",
        "            else 0, axis=1)\n",
        "\n",
        "    for tag_key in value_tags:\n",
        "        input_data[tag_key] = input_data.apply(lambda x: x['all_tags'].get(tag_key) \\\n",
        "            if tag_key in list(x['all_tag_keys']) else 0, axis=1)\n",
        "\n",
        "    # fix anomalies in FFX County data\n",
        "    input_data.drop(input_data[(input_data['building:levels'] == 'K-6')].index, inplace=True)\n",
        "    input_data.loc[(input_data['building:levels'] == '-1,1,2,3'),'building:levels']=4\n",
        "\n",
        "    input_data.drop(columns=['all_tag_keys', 'all_tags'], inplace=True)\n",
        "\n",
        "    input_data['official_type'] = \\\n",
        "    input_data['official_type'].apply(lambda x: 1 if x == 'RES' else 0)\n",
        "\n",
        "    return input_data"
      ],
      "metadata": {
        "execution": {
          "iopub.status.busy": "2023-09-16T21:13:05.884909Z",
          "iopub.execute_input": "2023-09-16T21:13:05.885232Z",
          "iopub.status.idle": "2023-09-16T21:13:05.895381Z",
          "shell.execute_reply.started": "2023-09-16T21:13:05.885202Z",
          "shell.execute_reply": "2023-09-16T21:13:05.894547Z"
        },
        "trusted": true,
        "id": "Nlb7z1nuUdJO"
      },
      "execution_count": null,
      "outputs": [],
      "id": "Nlb7z1nuUdJO"
    },
    {
      "cell_type": "code",
      "source": [
        "def add_buffers(input_data,col_names, buffers_list):\n",
        "    for num in range(0, len(col_names)):\n",
        "        input_data.insert(num+2,col_names[num],buffers_list[num])\n",
        "        input_data[col_names[num]] = input_data[col_names[num]].apply(lambda x: 1 if x == 'residential' else 0)\n",
        "\n",
        "    return input_data"
      ],
      "metadata": {
        "execution": {
          "iopub.status.busy": "2023-09-16T21:13:05.896543Z",
          "iopub.execute_input": "2023-09-16T21:13:05.896862Z",
          "iopub.status.idle": "2023-09-16T21:13:05.908959Z",
          "shell.execute_reply.started": "2023-09-16T21:13:05.896834Z",
          "shell.execute_reply": "2023-09-16T21:13:05.908089Z"
        },
        "trusted": true,
        "id": "t_fdfKcAUdJO"
      },
      "execution_count": null,
      "outputs": [],
      "id": "t_fdfKcAUdJO"
    },
    {
      "cell_type": "code",
      "source": [
        "num_buffers = 12\n",
        "buffer_loc = 0\n",
        "value_tags = ['roof:shape','building:levels']\n",
        "col_names = ['buffer_cat1_30','buffer_cat1_60','buffer_cat1_90',\\\n",
        "            'buffer_cat2_30','buffer_cat2_60','buffer_cat2_90',\\\n",
        "            'buffer_cat3_30','buffer_cat3_60','buffer_cat3_90',\\\n",
        "            'buffer_cat4_30','buffer_cat4_60','buffer_cat4_90']\n",
        "buffers_list = [joined_buildings1['buffered_highway'],joined_buildings2['buffered_highway'],\\\n",
        "                joined_buildings3['buffered_highway'],joined_buildings4['buffered_highway'],\\\n",
        "                joined_buildings5['buffered_highway'],joined_buildings6['buffered_highway'],\\\n",
        "                joined_buildings7['buffered_highway'],joined_buildings8['buffered_highway'],\\\n",
        "                joined_buildings9['buffered_highway'],joined_buildings10['buffered_highway'],\\\n",
        "                joined_buildings11['buffered_highway'],joined_buildings12['buffered_highway']]\n",
        "backup_data = joined_buildings1.copy()\n",
        "\n",
        "backup_data = backup_data[['geometry','official_type','building','landuse','land_building',\\\n",
        "                        'all_tag_keys','all_tags','id_left']]\n",
        "backup_data.insert(len(backup_data.columns), 'area',backup_data['geometry'].to_crs(epsg=32610).area)\n",
        "backup_data = preprocess_data(backup_data,value_tags,selected_tags)\n",
        "\n",
        "backup_data = add_buffers(backup_data,col_names[buffer_loc:buffer_loc+num_buffers],\\\n",
        "                         buffers_list[buffer_loc:buffer_loc+num_buffers])\n",
        "\n",
        "# transform the list of roads into a pandas DataFrame\n",
        "amenity_colnames = ['amenity_key', 'geometry']\n",
        "amenity_df = pd.DataFrame(areahandler.amenity_data, columns=amenity_colnames)\n",
        "\n",
        "amenity_categories = amenity_df.groupby(['amenity_key'])['geometry'].count().reset_index(name=\"count\")\n",
        "parking_df = amenity_df[(amenity_df['amenity_key'] == 'parking') | (amenity_df['amenity_key'] == 'parking_space')]\n",
        "\n",
        "parking_df = parking_df.assign(amenity_key='parking')\n",
        "parking_df.reset_index(inplace=True, drop=True)\n",
        "\n",
        "parking_gdf = geopandas.GeoDataFrame(parking_df.copy(),crs=\"EPSG:4326\",geometry='geometry')\n",
        "parking_gdf.insert(len(parking_gdf.columns), 'parking_area',parking_gdf['geometry'].to_crs(epsg=32610).area)\n",
        "\n",
        "breaks = jenkspy.jenks_breaks(parking_gdf['parking_area'], n_classes=3)\n",
        "bins_list = ['bin1','bin2','bin3']\n",
        "parking_gdf['cut_jenks'] = pd.cut(parking_gdf['parking_area'],\n",
        "                                bins=breaks,\n",
        "                                labels=bins_list,\n",
        "                                include_lowest=True)"
      ],
      "metadata": {
        "execution": {
          "iopub.status.busy": "2023-09-16T21:13:05.910331Z",
          "iopub.execute_input": "2023-09-16T21:13:05.910667Z",
          "iopub.status.idle": "2023-09-16T21:13:09.150286Z",
          "shell.execute_reply.started": "2023-09-16T21:13:05.910638Z",
          "shell.execute_reply": "2023-09-16T21:13:09.149302Z"
        },
        "trusted": true,
        "id": "O3Ka5_h_UdJP"
      },
      "execution_count": null,
      "outputs": [],
      "id": "O3Ka5_h_UdJP"
    },
    {
      "cell_type": "code",
      "source": [
        "for bin in bins_list:\n",
        "    parking_gdf.insert(len(parking_gdf.columns),bin,0)\n",
        "    parking_gdf[bin] = parking_gdf.apply(lambda x: 1 if x['cut_jenks'] == bin\\\n",
        "                                     else 0, axis=1)\n",
        "radius_list = [30,60,90]\n",
        "counter = 1\n",
        "for bin in bins_list:\n",
        "    for radius in radius_list:\n",
        "        parking_buffer = parking_gdf.copy()\n",
        "        parking_buffer = parking_buffer[['geometry',bin]]\n",
        "        col_name = 'parking_cat'+str(counter)\n",
        "        counter += 1\n",
        "        parking_buffer.rename(columns={bin: col_name}, inplace=True)\n",
        "        parking_buffer['geometry'] = parking_buffer['geometry'].to_crs(epsg=32610).buffer(radius)\n",
        "        parking_buffer.to_crs(epsg=4326, inplace=True)\n",
        "        buildings_parking = backup_data.sjoin(parking_buffer, how=\"left\", predicate='intersects')\n",
        "        buildings_parking[col_name] = buildings_parking[col_name].fillna(0)\n",
        "        buildings_parking.drop_duplicates(subset='id_left',inplace=True)\n",
        "        buildings_parking.reset_index(inplace=True, drop=True)\n",
        "        backup_data.insert(len(backup_data.columns),col_name,list(buildings_parking[col_name]))\n",
        "\n",
        "backup_data.drop(columns=['id_left'], inplace=True)\n",
        "\n",
        "backup_data.loc[(backup_data['building:levels'] == '1;3;2'),'building:levels']=3\n",
        "backup_data.loc[(backup_data['building:levels'] == '4 floors'),'building:levels']=4"
      ],
      "metadata": {
        "execution": {
          "iopub.status.busy": "2023-09-16T21:13:09.151533Z",
          "iopub.execute_input": "2023-09-16T21:13:09.151879Z",
          "iopub.status.idle": "2023-09-16T21:13:11.843507Z",
          "shell.execute_reply.started": "2023-09-16T21:13:09.151849Z",
          "shell.execute_reply": "2023-09-16T21:13:11.842450Z"
        },
        "trusted": true,
        "id": "FtxkePgqUdJP"
      },
      "execution_count": null,
      "outputs": [],
      "id": "FtxkePgqUdJP"
    },
    {
      "cell_type": "code",
      "source": [
        "#backup_data.to_pickle(\"./Boulder_Backup_Data/Boulder.pkl\")"
      ],
      "metadata": {
        "execution": {
          "iopub.status.busy": "2023-09-16T21:13:11.845006Z",
          "iopub.execute_input": "2023-09-16T21:13:11.845383Z",
          "iopub.status.idle": "2023-09-16T21:13:11.849746Z",
          "shell.execute_reply.started": "2023-09-16T21:13:11.845349Z",
          "shell.execute_reply": "2023-09-16T21:13:11.848767Z"
        },
        "trusted": true,
        "id": "ntwino24UdJP"
      },
      "execution_count": null,
      "outputs": [],
      "id": "ntwino24UdJP"
    },
    {
      "cell_type": "code",
      "source": [
        "input_data = backup_data.copy()\n",
        "input_data.drop(columns=['land_building', 'roof:shape'], inplace=True)\n",
        "input_data.groupby('landuse').count().sort_values(by=['geometry'], inplace=False, ascending=False).head(50)"
      ],
      "metadata": {
        "execution": {
          "iopub.status.busy": "2023-09-16T21:13:11.851102Z",
          "iopub.execute_input": "2023-09-16T21:13:11.851549Z",
          "iopub.status.idle": "2023-09-16T21:13:11.914873Z",
          "shell.execute_reply.started": "2023-09-16T21:13:11.851515Z",
          "shell.execute_reply": "2023-09-16T21:13:11.914105Z"
        },
        "trusted": true,
        "id": "noyFxWs5UdJQ",
        "outputId": "0597e770-c9d0-41bc-9d52-55abffac1a6a"
      },
      "execution_count": null,
      "outputs": [
        {
          "execution_count": 18,
          "output_type": "execute_result",
          "data": {
            "text/plain": "                   geometry  official_type  buffer_cat1_30  buffer_cat1_60  \\\nlanduse                                                                      \nno_landuse            15980          15980           15980           15980   \nresidential            6435           6435            6435            6435   \nnon_res                 624            624             624             624   \nconstruction             11             11              11              11   \nrecreation_ground         8              8               8               8   \nstorage                   5              5               5               5   \ncemetery                  2              2               2               2   \nfarmyard                  2              2               2               2   \nforest                    2              2               2               2   \n\n                   buffer_cat1_90  buffer_cat2_30  buffer_cat2_60  \\\nlanduse                                                             \nno_landuse                  15980           15980           15980   \nresidential                  6435            6435            6435   \nnon_res                       624             624             624   \nconstruction                   11              11              11   \nrecreation_ground               8               8               8   \nstorage                         5               5               5   \ncemetery                        2               2               2   \nfarmyard                        2               2               2   \nforest                          2               2               2   \n\n                   buffer_cat2_90  buffer_cat3_30  buffer_cat3_60  ...   area  \\\nlanduse                                                            ...          \nno_landuse                  15980           15980           15980  ...  15980   \nresidential                  6435            6435            6435  ...   6435   \nnon_res                       624             624             624  ...    624   \nconstruction                   11              11              11  ...     11   \nrecreation_ground               8               8               8  ...      8   \nstorage                         5               5               5  ...      5   \ncemetery                        2               2               2  ...      2   \nfarmyard                        2               2               2  ...      2   \nforest                          2               2               2  ...      2   \n\n                   parking_cat1  parking_cat2  parking_cat3  parking_cat4  \\\nlanduse                                                                     \nno_landuse                15980         15980         15980         15980   \nresidential                6435          6435          6435          6435   \nnon_res                     624           624           624           624   \nconstruction                 11            11            11            11   \nrecreation_ground             8             8             8             8   \nstorage                       5             5             5             5   \ncemetery                      2             2             2             2   \nfarmyard                      2             2             2             2   \nforest                        2             2             2             2   \n\n                   parking_cat5  parking_cat6  parking_cat7  parking_cat8  \\\nlanduse                                                                     \nno_landuse                15980         15980         15980         15980   \nresidential                6435          6435          6435          6435   \nnon_res                     624           624           624           624   \nconstruction                 11            11            11            11   \nrecreation_ground             8             8             8             8   \nstorage                       5             5             5             5   \ncemetery                      2             2             2             2   \nfarmyard                      2             2             2             2   \nforest                        2             2             2             2   \n\n                   parking_cat9  \nlanduse                          \nno_landuse                15980  \nresidential                6435  \nnon_res                     624  \nconstruction                 11  \nrecreation_ground             8  \nstorage                       5  \ncemetery                      2  \nfarmyard                      2  \nforest                        2  \n\n[9 rows x 33 columns]",
            "text/html": "<div>\n<style scoped>\n    .dataframe tbody tr th:only-of-type {\n        vertical-align: middle;\n    }\n\n    .dataframe tbody tr th {\n        vertical-align: top;\n    }\n\n    .dataframe thead th {\n        text-align: right;\n    }\n</style>\n<table border=\"1\" class=\"dataframe\">\n  <thead>\n    <tr style=\"text-align: right;\">\n      <th></th>\n      <th>geometry</th>\n      <th>official_type</th>\n      <th>buffer_cat1_30</th>\n      <th>buffer_cat1_60</th>\n      <th>buffer_cat1_90</th>\n      <th>buffer_cat2_30</th>\n      <th>buffer_cat2_60</th>\n      <th>buffer_cat2_90</th>\n      <th>buffer_cat3_30</th>\n      <th>buffer_cat3_60</th>\n      <th>...</th>\n      <th>area</th>\n      <th>parking_cat1</th>\n      <th>parking_cat2</th>\n      <th>parking_cat3</th>\n      <th>parking_cat4</th>\n      <th>parking_cat5</th>\n      <th>parking_cat6</th>\n      <th>parking_cat7</th>\n      <th>parking_cat8</th>\n      <th>parking_cat9</th>\n    </tr>\n    <tr>\n      <th>landuse</th>\n      <th></th>\n      <th></th>\n      <th></th>\n      <th></th>\n      <th></th>\n      <th></th>\n      <th></th>\n      <th></th>\n      <th></th>\n      <th></th>\n      <th></th>\n      <th></th>\n      <th></th>\n      <th></th>\n      <th></th>\n      <th></th>\n      <th></th>\n      <th></th>\n      <th></th>\n      <th></th>\n      <th></th>\n    </tr>\n  </thead>\n  <tbody>\n    <tr>\n      <th>no_landuse</th>\n      <td>15980</td>\n      <td>15980</td>\n      <td>15980</td>\n      <td>15980</td>\n      <td>15980</td>\n      <td>15980</td>\n      <td>15980</td>\n      <td>15980</td>\n      <td>15980</td>\n      <td>15980</td>\n      <td>...</td>\n      <td>15980</td>\n      <td>15980</td>\n      <td>15980</td>\n      <td>15980</td>\n      <td>15980</td>\n      <td>15980</td>\n      <td>15980</td>\n      <td>15980</td>\n      <td>15980</td>\n      <td>15980</td>\n    </tr>\n    <tr>\n      <th>residential</th>\n      <td>6435</td>\n      <td>6435</td>\n      <td>6435</td>\n      <td>6435</td>\n      <td>6435</td>\n      <td>6435</td>\n      <td>6435</td>\n      <td>6435</td>\n      <td>6435</td>\n      <td>6435</td>\n      <td>...</td>\n      <td>6435</td>\n      <td>6435</td>\n      <td>6435</td>\n      <td>6435</td>\n      <td>6435</td>\n      <td>6435</td>\n      <td>6435</td>\n      <td>6435</td>\n      <td>6435</td>\n      <td>6435</td>\n    </tr>\n    <tr>\n      <th>non_res</th>\n      <td>624</td>\n      <td>624</td>\n      <td>624</td>\n      <td>624</td>\n      <td>624</td>\n      <td>624</td>\n      <td>624</td>\n      <td>624</td>\n      <td>624</td>\n      <td>624</td>\n      <td>...</td>\n      <td>624</td>\n      <td>624</td>\n      <td>624</td>\n      <td>624</td>\n      <td>624</td>\n      <td>624</td>\n      <td>624</td>\n      <td>624</td>\n      <td>624</td>\n      <td>624</td>\n    </tr>\n    <tr>\n      <th>construction</th>\n      <td>11</td>\n      <td>11</td>\n      <td>11</td>\n      <td>11</td>\n      <td>11</td>\n      <td>11</td>\n      <td>11</td>\n      <td>11</td>\n      <td>11</td>\n      <td>11</td>\n      <td>...</td>\n      <td>11</td>\n      <td>11</td>\n      <td>11</td>\n      <td>11</td>\n      <td>11</td>\n      <td>11</td>\n      <td>11</td>\n      <td>11</td>\n      <td>11</td>\n      <td>11</td>\n    </tr>\n    <tr>\n      <th>recreation_ground</th>\n      <td>8</td>\n      <td>8</td>\n      <td>8</td>\n      <td>8</td>\n      <td>8</td>\n      <td>8</td>\n      <td>8</td>\n      <td>8</td>\n      <td>8</td>\n      <td>8</td>\n      <td>...</td>\n      <td>8</td>\n      <td>8</td>\n      <td>8</td>\n      <td>8</td>\n      <td>8</td>\n      <td>8</td>\n      <td>8</td>\n      <td>8</td>\n      <td>8</td>\n      <td>8</td>\n    </tr>\n    <tr>\n      <th>storage</th>\n      <td>5</td>\n      <td>5</td>\n      <td>5</td>\n      <td>5</td>\n      <td>5</td>\n      <td>5</td>\n      <td>5</td>\n      <td>5</td>\n      <td>5</td>\n      <td>5</td>\n      <td>...</td>\n      <td>5</td>\n      <td>5</td>\n      <td>5</td>\n      <td>5</td>\n      <td>5</td>\n      <td>5</td>\n      <td>5</td>\n      <td>5</td>\n      <td>5</td>\n      <td>5</td>\n    </tr>\n    <tr>\n      <th>cemetery</th>\n      <td>2</td>\n      <td>2</td>\n      <td>2</td>\n      <td>2</td>\n      <td>2</td>\n      <td>2</td>\n      <td>2</td>\n      <td>2</td>\n      <td>2</td>\n      <td>2</td>\n      <td>...</td>\n      <td>2</td>\n      <td>2</td>\n      <td>2</td>\n      <td>2</td>\n      <td>2</td>\n      <td>2</td>\n      <td>2</td>\n      <td>2</td>\n      <td>2</td>\n      <td>2</td>\n    </tr>\n    <tr>\n      <th>farmyard</th>\n      <td>2</td>\n      <td>2</td>\n      <td>2</td>\n      <td>2</td>\n      <td>2</td>\n      <td>2</td>\n      <td>2</td>\n      <td>2</td>\n      <td>2</td>\n      <td>2</td>\n      <td>...</td>\n      <td>2</td>\n      <td>2</td>\n      <td>2</td>\n      <td>2</td>\n      <td>2</td>\n      <td>2</td>\n      <td>2</td>\n      <td>2</td>\n      <td>2</td>\n      <td>2</td>\n    </tr>\n    <tr>\n      <th>forest</th>\n      <td>2</td>\n      <td>2</td>\n      <td>2</td>\n      <td>2</td>\n      <td>2</td>\n      <td>2</td>\n      <td>2</td>\n      <td>2</td>\n      <td>2</td>\n      <td>2</td>\n      <td>...</td>\n      <td>2</td>\n      <td>2</td>\n      <td>2</td>\n      <td>2</td>\n      <td>2</td>\n      <td>2</td>\n      <td>2</td>\n      <td>2</td>\n      <td>2</td>\n      <td>2</td>\n    </tr>\n  </tbody>\n</table>\n<p>9 rows × 33 columns</p>\n</div>"
          },
          "metadata": {}
        }
      ],
      "id": "noyFxWs5UdJQ"
    },
    {
      "cell_type": "code",
      "source": [
        "common_features = np.array(['apartments', 'church', 'civic', 'commercial', 'construction',\n",
        "       'detached', 'dormitory', 'garage', 'garages', 'greenhouse',\n",
        "       'hospital', 'hotel', 'house', 'industrial', 'kindergarten',\n",
        "       'office', 'parking', 'public', 'residential', 'retail', 'roof',\n",
        "       'school', 'semidetached_house', 'service', 'shed',\n",
        "       'static_caravan', 'terrace', 'warehouse', 'yes'], dtype=object)\n",
        "unique_buildings = np.setxor1d(input_data['building'].unique(), common_features).tolist()\n",
        "\n",
        "input_data[input_data['building'].isin(unique_buildings)].shape\n",
        "\n",
        "input_data['building'] = input_data['building'].apply(\\\n",
        "                                lambda x: 'misc_buildings' if x in(unique_buildings)\n",
        "                                                else x)"
      ],
      "metadata": {
        "execution": {
          "iopub.status.busy": "2023-09-16T21:13:11.921205Z",
          "iopub.execute_input": "2023-09-16T21:13:11.921503Z",
          "iopub.status.idle": "2023-09-16T21:13:11.949436Z",
          "shell.execute_reply.started": "2023-09-16T21:13:11.921478Z",
          "shell.execute_reply": "2023-09-16T21:13:11.948594Z"
        },
        "trusted": true,
        "id": "73pVe3NwUdJQ"
      },
      "execution_count": null,
      "outputs": [],
      "id": "73pVe3NwUdJQ"
    },
    {
      "cell_type": "code",
      "source": [
        "common_landuse = np.array(['non_res', 'no_landuse', 'residential', 'construction',\n",
        "       'forest', 'recreation_ground', 'cemetery', 'farmyard'], dtype=object)\n",
        "\n",
        "unique_landuse = np.setxor1d(input_data['landuse'].unique(), common_landuse).tolist()\n",
        "\n",
        "input_data['landuse'] = input_data['landuse'].apply(\\\n",
        "                                lambda x: 'misc_landuse' if x in(unique_landuse)\n",
        "                                                else x)"
      ],
      "metadata": {
        "execution": {
          "iopub.status.busy": "2023-09-16T21:13:11.950588Z",
          "iopub.execute_input": "2023-09-16T21:13:11.950877Z",
          "iopub.status.idle": "2023-09-16T21:13:11.964057Z",
          "shell.execute_reply.started": "2023-09-16T21:13:11.950851Z",
          "shell.execute_reply": "2023-09-16T21:13:11.963230Z"
        },
        "trusted": true,
        "id": "BXbxS9LZUdJQ"
      },
      "execution_count": null,
      "outputs": [],
      "id": "BXbxS9LZUdJQ"
    },
    {
      "cell_type": "code",
      "source": [
        "input_data['landuse'].replace(['residential','non_res','forest','cemetery','recreation_ground',\\\n",
        "                                'construction','farmyard'],['residential_landuse','non_res_landuse',\\\n",
        "                                'forest_landuse','cemetery_landuse','recreation_ground_landuse',\\\n",
        "                                'construction_landuse','farmyard_landuse'], inplace=True)\n",
        "\n",
        "Boulder_baseline = input_data.copy()\n",
        "\n",
        "Boulder_baseline = Boulder_baseline[['geometry', 'official_type', 'building']]\n",
        "\n",
        "residential_list = ['residential','apartments','dormitory', 'house','semidetached_house']\n",
        "Boulder_baseline['building'] = Boulder_baseline['building'].apply(\\\n",
        "                                lambda x: 'residential' if x in(residential_list)\n",
        "                                                else x)\n",
        "\n",
        "non_residential_list = ['public','commercial','industrial', 'school','church','office',\n",
        "                        'retail','hotel','warehouse','kindergarten','civic','hospital']\n",
        "Boulder_baseline['building'] = Boulder_baseline['building'].apply(\\\n",
        "                                lambda x: 'non_residential' if x in(non_residential_list)\n",
        "                                                else x)\n",
        "\n",
        "unknown_list = ['yes','detached','terrace', 'garage','roof','shed',\n",
        "                'parking','garages','greenhouse','static_caravan','service','construction',\n",
        "                'misc_buildings']\n",
        "Boulder_baseline['building'] = Boulder_baseline['building'].apply(\\\n",
        "                                lambda x: 'unknown' if x in(unknown_list)\n",
        "                                                else x)\n",
        "\n",
        "\n",
        "def nominal_transform(input_data, value_tags):\n",
        "    ohe = preprocessing.OneHotEncoder(sparse = False)\n",
        "    for tag in value_tags:\n",
        "        ohe_results = ohe.fit_transform(input_data[[tag]])\n",
        "        input_data.reset_index(inplace=True, drop=True)\n",
        "        input_data = pd.concat([input_data, \\\n",
        "            pd.DataFrame(ohe_results, columns=ohe.categories_[0].tolist())], axis=1)\n",
        "        input_data.drop(columns=[tag], inplace=True)\n",
        "\n",
        "    return input_data\n",
        "\n",
        "# nominal transform\n",
        "\n",
        "\n",
        "value_tags = ['building','landuse']\n",
        "nominal_data = input_data.copy()\n",
        "\n",
        "nominal_data = nominal_transform(nominal_data, value_tags)\n",
        "nominal_features = list(nominal_data.columns[2:])\n",
        "nominal_features"
      ],
      "metadata": {
        "execution": {
          "iopub.status.busy": "2023-09-16T21:13:11.965124Z",
          "iopub.execute_input": "2023-09-16T21:13:11.965427Z",
          "iopub.status.idle": "2023-09-16T21:13:12.102388Z",
          "shell.execute_reply.started": "2023-09-16T21:13:11.965400Z",
          "shell.execute_reply": "2023-09-16T21:13:12.101457Z"
        },
        "trusted": true,
        "id": "GelPn4TrUdJQ",
        "outputId": "2b6eefa8-e5a5-4f04-9607-4556d562c51c"
      },
      "execution_count": null,
      "outputs": [
        {
          "name": "stderr",
          "text": "/usr/local/lib/python3.8/site-packages/sklearn/preprocessing/_encoders.py:972: FutureWarning: `sparse` was renamed to `sparse_output` in version 1.2 and will be removed in 1.4. `sparse_output` is ignored unless you leave `sparse` to its default value.\n  warnings.warn(\n/usr/local/lib/python3.8/site-packages/sklearn/preprocessing/_encoders.py:972: FutureWarning: `sparse` was renamed to `sparse_output` in version 1.2 and will be removed in 1.4. `sparse_output` is ignored unless you leave `sparse` to its default value.\n  warnings.warn(\n",
          "output_type": "stream"
        },
        {
          "execution_count": 22,
          "output_type": "execute_result",
          "data": {
            "text/plain": "['buffer_cat1_30',\n 'buffer_cat1_60',\n 'buffer_cat1_90',\n 'buffer_cat2_30',\n 'buffer_cat2_60',\n 'buffer_cat2_90',\n 'buffer_cat3_30',\n 'buffer_cat3_60',\n 'buffer_cat3_90',\n 'buffer_cat4_30',\n 'buffer_cat4_60',\n 'buffer_cat4_90',\n 'shop',\n 'website',\n 'brand',\n 'amenity',\n 'building:levels',\n 'name',\n 'addr:street',\n 'source',\n 'area',\n 'parking_cat1',\n 'parking_cat2',\n 'parking_cat3',\n 'parking_cat4',\n 'parking_cat5',\n 'parking_cat6',\n 'parking_cat7',\n 'parking_cat8',\n 'parking_cat9',\n 'apartments',\n 'church',\n 'civic',\n 'commercial',\n 'construction',\n 'detached',\n 'dormitory',\n 'garage',\n 'garages',\n 'greenhouse',\n 'hospital',\n 'hotel',\n 'house',\n 'industrial',\n 'kindergarten',\n 'misc_buildings',\n 'office',\n 'parking',\n 'public',\n 'residential',\n 'retail',\n 'roof',\n 'school',\n 'semidetached_house',\n 'service',\n 'shed',\n 'static_caravan',\n 'terrace',\n 'warehouse',\n 'yes',\n 'cemetery_landuse',\n 'construction_landuse',\n 'farmyard_landuse',\n 'forest_landuse',\n 'misc_landuse',\n 'no_landuse',\n 'non_res_landuse',\n 'recreation_ground_landuse',\n 'residential_landuse']"
          },
          "metadata": {}
        }
      ],
      "id": "GelPn4TrUdJQ"
    },
    {
      "cell_type": "code",
      "source": [
        "nominal_data.to_csv('Boulder_City_Buildings+official_type')\n"
      ],
      "metadata": {
        "execution": {
          "iopub.status.busy": "2023-09-16T21:18:07.677325Z",
          "iopub.execute_input": "2023-09-16T21:18:07.677755Z",
          "iopub.status.idle": "2023-09-16T21:18:09.006973Z",
          "shell.execute_reply.started": "2023-09-16T21:18:07.677721Z",
          "shell.execute_reply": "2023-09-16T21:18:09.005984Z"
        },
        "trusted": true,
        "id": "YdWDyNHLUdJR"
      },
      "execution_count": null,
      "outputs": [],
      "id": "YdWDyNHLUdJR"
    }
  ]
}